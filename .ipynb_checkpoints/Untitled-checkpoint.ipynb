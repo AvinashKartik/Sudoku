{
 "cells": [
  {
   "cell_type": "code",
   "execution_count": 31,
   "metadata": {},
   "outputs": [],
   "source": [
    "from copy import *\n",
    "from time import *"
   ]
  },
  {
   "cell_type": "code",
   "execution_count": 28,
   "metadata": {},
   "outputs": [
    {
     "name": "stdout",
     "output_type": "stream",
     "text": [
      "5 3 4 | 6 7 8 | 9 1 2 \n",
      "6 7 2 | 1 9 5 | 3 4 8 \n",
      "1 9 8 | 3 4 2 | 5 6 7 \n",
      "------+-------+-------\n",
      "8 5 9 | 7 6 1 | 4 2 3 \n",
      "4 2 6 | 8 5 3 | 7 9 1 \n",
      "7 1 3 | 9 2 4 | 8 5 6 \n",
      "------+-------+-------\n",
      "9 6 1 | 5 3 7 | 2 8 4 \n",
      "2 8 7 | 4 1 9 | 6 3 5 \n",
      "3 4 5 | 2 8 6 | 1 7 9 \n"
     ]
    },
    {
     "data": {
      "text/plain": [
       "True"
      ]
     },
     "execution_count": 28,
     "metadata": {},
     "output_type": "execute_result"
    }
   ],
   "source": [
    "class Sudoku():\n",
    "    def __init__(self, board):\n",
    "        self.board = board\n",
    "        self.rows = [0 for i in range(9)]\n",
    "        self.cols = [0 for i in range(9)]\n",
    "        self.boxes = [0 for i in range(9)]\n",
    "        self.n = len(board)\n",
    "        self.solvable = True\n",
    "        for i in range(self.n):\n",
    "            for j in range(self.n):\n",
    "                val = self.board[i][j]\n",
    "                if(val != 0):\n",
    "                    msk = (1<<(val-1))\n",
    "                    self.rows[i] ^= msk\n",
    "                    self.cols[j] ^= msk\n",
    "                    self.boxes[(i//3)*3+(j//3)] ^= msk\n",
    "                    if(self.rows[i] or self.cols[j] or self.boxes[(i//3)*3+(j//3)]): self.solvable = False\n",
    "\n",
    "    def Solvable(self):\n",
    "        return self.solvable\n",
    "\n",
    "    def Print_board(self):\n",
    "        for i in range(self.n):\n",
    "            for j in range(self.n):\n",
    "                print(self.board[i][j], end = \" \")\n",
    "                if(j%3 == 2 and j != 8): print(\"|\", end = \" \")\n",
    "            print()\n",
    "            if(i%3 == 2 and i != 8): print((\"-\"*6)+\"+\"+(\"-\"*7)+\"+\"+(\"-\"*7))\n",
    "\n",
    "    def options(self, i, j):\n",
    "        msk = self.rows[i]|self.cols[j]|self.boxes[(i//3)*3+(j//3)]\n",
    "        left = []\n",
    "        for i in range(9):\n",
    "            if (msk&(1<<i)) == 0: left.append(i+1)\n",
    "        return left\n",
    "\n",
    "    def place(self, i, j, val):\n",
    "        self.board[i][j] = val\n",
    "        msk = (1<<(val-1))\n",
    "        self.rows[i] ^= msk\n",
    "        self.cols[j] ^= msk\n",
    "        self.boxes[(i//3)*3+(j//3)] ^= msk\n"
   ]
  },
  {
   "cell_type": "code",
   "execution_count": 40,
   "metadata": {},
   "outputs": [],
   "source": [
    "def solve(puzzle):\n",
    "    solved = False\n",
    "    while not solved:\n",
    "        solved = True\n",
    "        changed = False\n",
    "        for i in range(puzzle.n):\n",
    "            for j in range(puzzle.n):\n",
    "                if(puzzle.board[i][j] == 0):\n",
    "                    solved = False\n",
    "                    left = puzzle.options(i,j)\n",
    "                    if(len(left) == 0): return False\n",
    "                    if(len(left) == 1):\n",
    "                        puzzle.place(i, j, left[0])\n",
    "                        changed = True\n",
    "        if not changed:\n",
    "            if solved:\n",
    "                puzzle.Print_board()\n",
    "                return True\n",
    "            min_needed = ((puzzle.n+1),[],(-1,-1))\n",
    "            for i in range(puzzle.n):\n",
    "                for j in range(puzzle.n):\n",
    "                    if(puzzle.board[i][j] == 0):\n",
    "                        left = puzzle.options(i,j)\n",
    "                        min_needed = min(min_needed, (len(left),left,(i,j)))\n",
    "            i, j = min_needed[2]\n",
    "            for val in min_needed[1]:\n",
    "                puzzle_next = deepcopy(puzzle)\n",
    "                puzzle_next.place(i, j, val)\n",
    "                solved = solve(puzzle_next)\n",
    "                if solved: break\n",
    "            return solved\n",
    "    return solved\n"
   ]
  },
  {
   "cell_type": "code",
   "execution_count": 43,
   "metadata": {},
   "outputs": [
    {
     "name": "stdout",
     "output_type": "stream",
     "text": [
      "9 7 0 | 0 0 2 | 0 0 0 \n",
      "1 0 8 | 0 0 6 | 0 0 4 \n",
      "0 0 2 | 0 0 0 | 7 0 0 \n",
      "------+-------+-------\n",
      "0 0 1 | 8 5 0 | 4 0 0 \n",
      "5 4 7 | 0 2 1 | 0 0 9 \n",
      "8 0 6 | 7 9 0 | 1 0 5 \n",
      "------+-------+-------\n",
      "3 0 0 | 5 0 8 | 0 0 0 \n",
      "0 0 0 | 0 0 0 | 5 4 0 \n",
      "7 2 0 | 0 4 0 | 0 8 0 \n",
      "\n",
      "9 7 3 | 4 1 2 | 6 5 8 \n",
      "1 5 8 | 3 7 6 | 2 9 4 \n",
      "4 6 2 | 9 8 5 | 7 1 3 \n",
      "------+-------+-------\n",
      "2 9 1 | 8 5 3 | 4 6 7 \n",
      "5 4 7 | 6 2 1 | 8 3 9 \n",
      "8 3 6 | 7 9 4 | 1 2 5 \n",
      "------+-------+-------\n",
      "3 1 4 | 5 6 8 | 9 7 2 \n",
      "6 8 9 | 2 3 7 | 5 4 1 \n",
      "7 2 5 | 1 4 9 | 3 8 6 \n"
     ]
    },
    {
     "data": {
      "text/plain": [
       "True"
      ]
     },
     "execution_count": 43,
     "metadata": {},
     "output_type": "execute_result"
    }
   ],
   "source": [
    "def make_board(string):\n",
    "    board = []\n",
    "    for i in range(81):\n",
    "        val = string[i]\n",
    "        if(val == '.'): val = '0'\n",
    "        if(i%9 == 0):\n",
    "            l = []\n",
    "        l.append(ord(val)-ord('0'))\n",
    "        if(i%9 == 8): board.append(l)\n",
    "    return board\n",
    "\n",
    "string = '4.....8.5.3..........7......2.....6.....8.4......1.......6.3.7.5..2.....1.4......'\n",
    "board = make_board(string)\n",
    "#print(board)\n",
    "\n",
    "board = [[9,7,0,0,0,2,0,0,0],[1,0,8,0,0,6,0,0,4],[0,0,2,0,0,0,7,0,0],\n",
    "        [0,0,1,8,5,0,4,0,0],[5,4,7,0,2,1,0,0,9],[8,0,6,7,9,0,1,0,5],\n",
    "        [3,0,0,5,0,8,0,0,0],[0,0,0,0,0,0,5,4,0],[7,2,0,0,4,0,0,8,0]]\n",
    "#board = make_board(string)\n",
    "puzzle = Sudoku(board)\n",
    "puzzle.Print_board()\n",
    "print()\n",
    "solve(puzzle)"
   ]
  },
  {
   "cell_type": "code",
   "execution_count": null,
   "metadata": {},
   "outputs": [],
   "source": []
  }
 ],
 "metadata": {
  "kernelspec": {
   "display_name": "Python 3",
   "language": "python",
   "name": "python3"
  },
  "language_info": {
   "codemirror_mode": {
    "name": "ipython",
    "version": 3
   },
   "file_extension": ".py",
   "mimetype": "text/x-python",
   "name": "python",
   "nbconvert_exporter": "python",
   "pygments_lexer": "ipython3",
   "version": "3.7.3"
  }
 },
 "nbformat": 4,
 "nbformat_minor": 2
}
